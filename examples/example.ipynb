{
 "cells": [
  {
   "cell_type": "code",
   "execution_count": null,
   "metadata": {},
   "outputs": [],
   "source": [
    "%matplotlib inline \n",
    "\n",
    "import matplotlib.pyplot as plt\n",
    "import numpy as np\n",
    "from scipy.constants import c\n",
    "\n",
    "from axiprop.utils import laser_from_fu, mirror_parabolic\n",
    "from axiprop.lib import PropagatorSymmetric\n",
    "from axiprop.lib import PropagatorResampling\n",
    "from axiprop.lib import PropagatorResamplingFresnel"
   ]
  },
  {
   "cell_type": "markdown",
   "metadata": {},
   "source": [
    "## Laser and focussing system parameters"
   ]
  },
  {
   "cell_type": "code",
   "execution_count": null,
   "metadata": {},
   "outputs": [],
   "source": [
    "lambda0 = 0.8e-6              # wavelength [m]\n",
    "tau_fwhm = 35e-15             # FWHM duration (intensity) [s]\n",
    "R_las = 10e-3                 # Radial size of laser [m]\n",
    "\n",
    "tau = tau_fwhm / (2*np.log(2))**0.5\n",
    "k0 = 2 * np.pi / lambda0\n",
    "\n",
    "def fu_laser(kz, r):\n",
    "    \"\"\"\n",
    "    Gaussian spot with the Gaussian temporal profile\n",
    "    \"\"\"\n",
    "    profile_r = np.exp( -(r/R_las)**2 ) * (r<2.5*R_las)\n",
    "    profile_kz = np.exp( -( (kz-k0) * c * tau / 2 )**2 )\n",
    "    return profile_r * profile_kz\n",
    "\n",
    "f_N = 400                      # f-number of the parabolic mirror\n",
    "f0 = 2 * R_las * f_N          # focal length"
   ]
  },
  {
   "cell_type": "markdown",
   "metadata": {},
   "source": [
    "## Simulation and  numerical domain "
   ]
  },
  {
   "cell_type": "code",
   "execution_count": null,
   "metadata": {},
   "outputs": [],
   "source": [
    "L_kz = 8 / (c*tau)               # full spectral width [1/s] \n",
    "Nkz = 12                         # number of kz modes (1 for quick demonstration)\n",
    "w0 = 2/np.pi * lambda0 * f_N     # beam waist\n",
    "L_R = np.pi * w0**2/lambda0      # Rayleigh length\n",
    "Rmax = 2.6 * R_las               # total radius [m]\n",
    "Rmax_new = 16 * w0               # new radial grid size around focus"
   ]
  },
  {
   "cell_type": "markdown",
   "metadata": {},
   "source": [
    "## Propagator"
   ]
  },
  {
   "cell_type": "raw",
   "metadata": {},
   "source": [
    "dr = w0/2                        # estimate grid resolution\n",
    "Nr = int( Rmax / dr )            # total radial grid number\n",
    "Nr_new = 256                     # new radial grid number around focus\n",
    "\n",
    "prop = PropagatorResampling((Rmax, Nr), (k0, L_kz,  Nkz), (Rmax_new, Nr_new))"
   ]
  },
  {
   "cell_type": "markdown",
   "metadata": {},
   "source": [
    "### alternatively try PropagatorSymmetric (needs much larger Nr)"
   ]
  },
  {
   "cell_type": "raw",
   "metadata": {},
   "source": [
    "dr = w0/12                          # in PropagatorSymmetric initial grid must also resolve the focused beam\n",
    "Nr = int( Rmax / dr )               #\n",
    "Nr_new = int( Rmax_new / dr)        # number of radial points to compute around focus\n",
    "\n",
    "prop = PropagatorSymmetric((Rmax, Nr), (k0, L_kz,  Nkz), (Nr_new,))"
   ]
  },
  {
   "cell_type": "markdown",
   "metadata": {},
   "source": [
    "### or PropagatorResamplingFresnel (paraxial)"
   ]
  },
  {
   "cell_type": "code",
   "execution_count": null,
   "metadata": {},
   "outputs": [],
   "source": [
    "dr = w0/2                        # estimate grid resolution\n",
    "Nr = int( Rmax / dr )            # total radial grid number\n",
    "Nr_new = 256                     # new radial grid number around focus\n",
    "\n",
    "prop = PropagatorResamplingFresnel((Rmax, Nr), (k0, L_kz,  Nkz), (Rmax_new, Nr_new))"
   ]
  },
  {
   "cell_type": "markdown",
   "metadata": {},
   "source": [
    "## Single-step simulation\n",
    "\n",
    "- CREATE THE LASER\n",
    "- REFLECT IT FROM PARABOLIC MIRROR\n",
    "- PROPAGATE TO THE FOCUS"
   ]
  },
  {
   "cell_type": "code",
   "execution_count": null,
   "metadata": {},
   "outputs": [],
   "source": [
    "A0 = laser_from_fu( fu_laser, prop.kz, prop.r, normalize=True )\n",
    "A0 /=  (R_las/w0)\n",
    "A0 = A0 * mirror_parabolic( f0, prop.kz, prop.r )\n",
    "A0 = prop.step(A0, f0)"
   ]
  },
  {
   "cell_type": "code",
   "execution_count": null,
   "metadata": {},
   "outputs": [],
   "source": [
    "val = (np.abs(A0)**2).sum(0)\n",
    "val = np.r_[val[::-1], val]\n",
    "coord = np.r_[-prop.r_new[::-1], prop.r_new]/w0\n",
    "\n",
    "plt.figure()\n",
    "plt.plot(coord, val, c='k', lw=1.5)\n",
    "plt.plot(coord, np.exp(-2*coord**2), '--', c='r')\n",
    "\n",
    "plt.ylabel('Intensity (a.u.)', fontsize=12)\n",
    "plt.xlabel('$R/w_0$', fontsize=12)\n",
    "\n",
    "plt.xlim(-3,3)\n",
    "plt.ylim(0,);"
   ]
  },
  {
   "cell_type": "markdown",
   "metadata": {},
   "source": [
    "## Multi-step simulation\n",
    "\n",
    "- CREATE THE LASER\n",
    "- REFLECT IT FROM THE PARABOLIC MIRROR\n",
    "- PROPAGATE AROUND THE FOCUS"
   ]
  },
  {
   "cell_type": "code",
   "execution_count": null,
   "metadata": {},
   "outputs": [],
   "source": [
    "A0 = laser_from_fu( fu_laser, prop.kz, prop.r,normalize=True )\n",
    "A0 /=  (R_las/w0)\n",
    "A0 = A0 * mirror_parabolic( f0, prop.kz, prop.r )\n",
    "\n",
    "Nsteps = 80\n",
    "Distance = 8 * L_R\n",
    "\n",
    "dz =  Distance / Nsteps\n",
    "zsteps = Nsteps * [dz,]\n",
    "zsteps[0] = f0 - Distance/2\n",
    "z_axis = np.cumsum(zsteps)\n",
    "R2 = (prop.r_new/w0)**2\n",
    "\n",
    "A_multi = prop.steps(A0, z_axis=z_axis)"
   ]
  },
  {
   "cell_type": "code",
   "execution_count": null,
   "metadata": {},
   "outputs": [],
   "source": [
    "IntesityPropagation = np.zeros((Nsteps, Nr_new))\n",
    "waist = np.zeros((Nsteps))\n",
    "\n",
    "for istep in range(Nsteps):\n",
    "    val = (np.abs(A_multi[istep])**2).sum(0)\n",
    "    IntesityPropagation[istep,:] = val\n",
    "    waist[istep] = 2*np.average(R2, weights=val)**0.5\n",
    "\n",
    "IntesityPropagation = np.array(IntesityPropagation)\n",
    "FieldPropagation = IntesityPropagation**0.5"
   ]
  },
  {
   "cell_type": "code",
   "execution_count": null,
   "metadata": {},
   "outputs": [],
   "source": [
    "fig, ax = plt.subplots(1,1, figsize=(8,4), tight_layout=True, dpi=100)\n",
    "\n",
    "ax.imshow(FieldPropagation.T, \n",
    "           extent=[ zsteps[0]*1e3, sum(zsteps)*1e3, 0, prop.r_new.max()/w0 ],\n",
    "           aspect='auto', origin='lower', interpolation='gaussian',\n",
    "           cmap=plt.cm.Greys_r)\n",
    "\n",
    "ax.plot(z_axis*1e3, waist, c='w', lw=1.5)\n",
    "ax.plot(z_axis*1e3, ( 1 + ((z_axis-f0)/L_R)**2 )**.5, ':', c='w', lw=1.5 )\n",
    "ax.legend(('Beam waist',))\n",
    "\n",
    "\n",
    "plt.xticks(np.array([f0-2*L_R, f0, f0+2*L_R])*1e3, \n",
    "           (r'$f_0-2L_R$', r'$f_0$', r'$f_0+2L_R$',), color='b')\n",
    "\n",
    "plt.yticks(np.array([1,3]), color='b')\n",
    "\n",
    "plt.title('Optical field amplitude (a.u.)',fontsize=12, color='b')\n",
    "plt.xlabel('Distance', fontsize=12, color='b')\n",
    "plt.ylabel('$R/w_0$', fontsize=12, color='b')\n",
    "plt.ylim(0, 4.8);\n",
    "#plt.savefig('./example_figure.png');"
   ]
  }
 ],
 "metadata": {
  "kernelspec": {
   "display_name": "Python 3 (ipykernel)",
   "language": "python",
   "name": "python3"
  },
  "language_info": {
   "codemirror_mode": {
    "name": "ipython",
    "version": 3
   },
   "file_extension": ".py",
   "mimetype": "text/x-python",
   "name": "python",
   "nbconvert_exporter": "python",
   "pygments_lexer": "ipython3",
   "version": "3.9.7"
  }
 },
 "nbformat": 4,
 "nbformat_minor": 4
}
