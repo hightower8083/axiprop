{
 "cells": [
  {
   "cell_type": "code",
   "execution_count": null,
   "metadata": {},
   "outputs": [],
   "source": [
    "%matplotlib inline \n",
    "\n",
    "import matplotlib.pyplot as plt\n",
    "import numpy as np\n",
    "from scipy.constants import c\n",
    "\n",
    "from axiprop.utils import laser_from_fu, mirror_parabolic\n",
    "from axiprop.lib import PropagatorFFT2\n",
    "from axiprop.lib import PropagatorFFT2Fresnel"
   ]
  },
  {
   "cell_type": "code",
   "execution_count": null,
   "metadata": {},
   "outputs": [],
   "source": [
    "lambda0 = 0.8e-6              # wavelength [m]\n",
    "tau_fwhm = 35e-15             # FWHM duration (intensity) [s]\n",
    "R_las = 10e-3                 # Radial size of laser [m]\n",
    "\n",
    "tau = tau_fwhm / (2*np.log(2))**0.5\n",
    "k0 = 2 * np.pi / lambda0\n",
    "\n",
    "def fu_laser(kz, r):\n",
    "    \"\"\"\n",
    "    Gaussian spot with the Gaussian temporal profile\n",
    "    \"\"\"\n",
    "    profile_r = np.exp( -(r/R_las)**2 ) * (r<2.5*R_las)\n",
    "    profile_kz = np.exp( -( (kz-k0) * c * tau / 2 )**2 )\n",
    "    return profile_r * profile_kz\n",
    "\n",
    "f_N = 400                      # f-number of the parabolic mirror\n",
    "f0 = 2 * R_las * f_N          # focal length"
   ]
  },
  {
   "cell_type": "code",
   "execution_count": null,
   "metadata": {},
   "outputs": [],
   "source": [
    "L_kz = 8 / (c*tau)               # full spectral width [1/s] \n",
    "Nkz = 1                          # number of kz modes (1 for quick demonstration)\n",
    "w0 = 2/np.pi * lambda0 * f_N     # beam waist\n",
    "L_R = np.pi * w0**2/lambda0      # Rayleigh length"
   ]
  },
  {
   "cell_type": "code",
   "execution_count": null,
   "metadata": {},
   "outputs": [],
   "source": [
    "Lx = 5 * R_las               # total radius [m]\n",
    "Ly = 5 * R_las               # total radius [m]\n",
    "Nx = 1024*4\n",
    "Ny = 1024*4\n",
    "\n",
    "prop = PropagatorFFT2((Lx, Nx), (Ly, Ny), (k0, L_kz, Nkz))"
   ]
  },
  {
   "cell_type": "raw",
   "metadata": {},
   "source": [
    "### alternatively try PropagatorFFT2Fresnel (needs less points)\n",
    "\n",
    "Lx = 5 * R_las               # total radius [m]\n",
    "Ly = 5 * R_las               # total radius [m]\n",
    "Nx = 256\n",
    "Ny = 256\n",
    "\n",
    "prop = PropagatorFFT2Fresnel((Lx, Nx), (Ly, Ny), (k0, L_kz, Nkz), N_pad=4)"
   ]
  },
  {
   "cell_type": "code",
   "execution_count": null,
   "metadata": {},
   "outputs": [],
   "source": [
    "A0 = laser_from_fu( fu_laser, prop.kz, prop.r, normalize=True )\n",
    "A0 /=  (R_las/w0) # normalise to the focussed amplitude\n",
    "A0 = A0 * mirror_parabolic( f0, prop.kz, prop.r )"
   ]
  },
  {
   "cell_type": "code",
   "execution_count": null,
   "metadata": {},
   "outputs": [],
   "source": [
    "Nsteps = 32\n",
    "Distance = 8 * L_R\n",
    "\n",
    "dz =  Distance / Nsteps\n",
    "zsteps = Nsteps * [dz,]\n",
    "zsteps[0] = f0 - Distance/2\n",
    "z_axis = np.cumsum(zsteps)\n",
    "R2 = (prop.r/w0)**2\n",
    "\n",
    "A_multi = prop.steps(A0, z_axis=z_axis)"
   ]
  },
  {
   "cell_type": "code",
   "execution_count": null,
   "metadata": {},
   "outputs": [],
   "source": [
    "IntesityPropagation = np.zeros((Nsteps, prop.x.size))\n",
    "waist = np.zeros((Nsteps))\n",
    "\n",
    "for istep in range(Nsteps):\n",
    "    val = (np.abs(A_multi[istep,:,prop.x.size//2])**2).sum(0)\n",
    "    IntesityPropagation[istep,:] = val\n",
    "    waist[istep] = 2*np.average(np.abs(prop.x/w0)**2, weights=val)**0.5\n",
    "\n",
    "IntesityPropagation = np.array(IntesityPropagation)\n",
    "FieldPropagation = IntesityPropagation**0.5"
   ]
  },
  {
   "cell_type": "code",
   "execution_count": null,
   "metadata": {},
   "outputs": [],
   "source": [
    "plt.figure(figsize=(8,4), tight_layout=True, dpi=100)\n",
    "\n",
    "plt.imshow(FieldPropagation.T, \n",
    "           extent=[ zsteps[0]/f0, sum(zsteps)/f0, prop.x.min()/w0, prop.x.max()/w0 ],\n",
    "           aspect='auto', origin='lower', interpolation='gaussian',\n",
    "           cmap=plt.cm.Greys_r)\n",
    "\n",
    "plt.colorbar()\n",
    "\n",
    "plt.plot(z_axis/f0, waist, c='w')\n",
    "plt.plot(z_axis/f0, ( 1 + ((z_axis-f0)/L_R)**2 )**.5, ':', c='w' )\n",
    "plt.legend(('Beam waist',))\n",
    "\n",
    "plt.xticks(np.array([1-2*L_R/f0, 1, 1+2*L_R/f0]), \n",
    "           (r'$f_0-2L_R$', r'$f_0$', r'$f_0+2L_R$',))\n",
    "\n",
    "plt.title('Optical field amplitude (a.u.)',fontsize=12)\n",
    "plt.xlabel('Distance', fontsize=12)\n",
    "plt.ylabel('$R/w_0$', fontsize=12);\n",
    "plt.ylim(-9, 9);"
   ]
  }
 ],
 "metadata": {
  "kernelspec": {
   "display_name": "Python 3 (ipykernel)",
   "language": "python",
   "name": "python3"
  },
  "language_info": {
   "codemirror_mode": {
    "name": "ipython",
    "version": 3
   },
   "file_extension": ".py",
   "mimetype": "text/x-python",
   "name": "python",
   "nbconvert_exporter": "python",
   "pygments_lexer": "ipython3",
   "version": "3.9.7"
  }
 },
 "nbformat": 4,
 "nbformat_minor": 2
}
